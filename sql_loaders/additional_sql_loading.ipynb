{
 "cells": [
  {
   "cell_type": "code",
   "execution_count": 1,
   "metadata": {},
   "outputs": [],
   "source": [
    "import pandas as pd\n",
    "from sqlalchemy import create_engine\n",
    "import psycopg2\n",
    "from config import db_password\n",
    "import os\n",
    "from os import listdir\n",
    "from os.path import isfile, join\n",
    "from pathlib import Path"
   ]
  },
  {
   "cell_type": "code",
   "execution_count": 39,
   "metadata": {},
   "outputs": [],
   "source": [
    "# Make dataframes for psy2019 and psy2020 CSVs\n",
    "psy2019_df = pd.read_csv(r'resources\\psy2019.csv')\n",
    "psy2020_df = pd.read_csv(r'resources\\psy2020.csv')\n"
   ]
  },
  {
   "cell_type": "code",
   "execution_count": 40,
   "metadata": {},
   "outputs": [],
   "source": [
    "# Drop rows with bugged values\n",
    "psy2019_df= psy2019_df.drop(index=[52,53,54,55,56,57,58])"
   ]
  },
  {
   "cell_type": "code",
   "execution_count": 41,
   "metadata": {},
   "outputs": [],
   "source": [
    "# Drop rows with bugged values\n",
    "psy2020_df = psy2020_df.drop(index=[52,53,54,55,56,57])"
   ]
  },
  {
   "cell_type": "code",
   "execution_count": 42,
   "metadata": {},
   "outputs": [
    {
     "name": "stderr",
     "output_type": "stream",
     "text": [
      "C:\\Users\\noaht\\AppData\\Local\\Temp/ipykernel_11896/2461758949.py:2: FutureWarning: The default value of regex will change from True to False in a future version.\n",
      "  psy2019_df['Area Name'] = psy2019_df['Area Name'].str.replace(r\"\\(.*\\)\",\"\")\n",
      "C:\\Users\\noaht\\AppData\\Local\\Temp/ipykernel_11896/2461758949.py:3: FutureWarning: The default value of regex will change from True to False in a future version.\n",
      "  psy2020_df['Area Name'] = psy2020_df['Area Name'].str.replace(r\"\\(.*\\)\",\"\")\n"
     ]
    }
   ],
   "source": [
    "# Drop unnecessary data from Area Name column \n",
    "psy2019_df['Area Name'] = psy2019_df['Area Name'].str.replace(r\"\\(.*\\)\",\"\")\n",
    "psy2020_df['Area Name'] = psy2020_df['Area Name'].str.replace(r\"\\(.*\\)\",\"\")\n"
   ]
  },
  {
   "cell_type": "code",
   "execution_count": 43,
   "metadata": {},
   "outputs": [],
   "source": [
    "# Rename all column names to be more readable and workable for postgres \n",
    "psy2020_df = psy2020_df.rename(columns={'Area Name' : 'State', 'Employment(1)' : 'psy2020_number_employed', 'Annual mean wage(2)' : 'psy2020_annual_mean_wage', 'Employment per 1,000 jobs' : 'psy2020_employ_per_1k_jobs' , 'Location Quotient' : 'psy2020_loc_quotient' })"
   ]
  },
  {
   "cell_type": "code",
   "execution_count": 44,
   "metadata": {},
   "outputs": [],
   "source": [
    "# Rename all column names to be more readable and workable for postgres \n",
    "psy2019_df = psy2019_df.rename(columns={'Area Name' : 'State', 'Employment(1)' : 'psy2019_number_employed', 'Employment percent relative standard error(3)' : 'psy2019_percent_relative_standard_error', 'Annual mean wage(2)' : 'psy2019_annual_mean_wage', 'Employment per 1,000 jobs' : 'psy2019_employ_per_1k_jobs' , 'Location Quotient' : 'psy2019_loc_quotient' })"
   ]
  },
  {
   "cell_type": "code",
   "execution_count": 45,
   "metadata": {},
   "outputs": [],
   "source": [
    "# Make psyjobs dataframe \n",
    "psyjobs_df = pd.read_csv(r'resources\\us_psyjobs_trends.csv')"
   ]
  },
  {
   "cell_type": "code",
   "execution_count": 50,
   "metadata": {},
   "outputs": [
    {
     "data": {
      "text/html": [
       "<div>\n",
       "<style scoped>\n",
       "    .dataframe tbody tr th:only-of-type {\n",
       "        vertical-align: middle;\n",
       "    }\n",
       "\n",
       "    .dataframe tbody tr th {\n",
       "        vertical-align: top;\n",
       "    }\n",
       "\n",
       "    .dataframe thead th {\n",
       "        text-align: right;\n",
       "    }\n",
       "</style>\n",
       "<table border=\"1\" class=\"dataframe\">\n",
       "  <thead>\n",
       "    <tr style=\"text-align: right;\">\n",
       "      <th></th>\n",
       "      <th>STATE</th>\n",
       "      <th>TOT_EMP</th>\n",
       "      <th>JOBS_1000</th>\n",
       "      <th>LOC_Q</th>\n",
       "      <th>Year</th>\n",
       "    </tr>\n",
       "  </thead>\n",
       "  <tbody>\n",
       "    <tr>\n",
       "      <th>0</th>\n",
       "      <td>Alabama</td>\n",
       "      <td>1,750</td>\n",
       "      <td>0.901</td>\n",
       "      <td>2.29</td>\n",
       "      <td>2018</td>\n",
       "    </tr>\n",
       "    <tr>\n",
       "      <th>1</th>\n",
       "      <td>Alaska</td>\n",
       "      <td>160</td>\n",
       "      <td>0.496</td>\n",
       "      <td>1.26</td>\n",
       "      <td>2018</td>\n",
       "    </tr>\n",
       "    <tr>\n",
       "      <th>2</th>\n",
       "      <td>Arkansas</td>\n",
       "      <td>340</td>\n",
       "      <td>0.279</td>\n",
       "      <td>0.71</td>\n",
       "      <td>2018</td>\n",
       "    </tr>\n",
       "    <tr>\n",
       "      <th>3</th>\n",
       "      <td>California</td>\n",
       "      <td>1,910</td>\n",
       "      <td>0.112</td>\n",
       "      <td>0.29</td>\n",
       "      <td>2018</td>\n",
       "    </tr>\n",
       "    <tr>\n",
       "      <th>4</th>\n",
       "      <td>Colorado</td>\n",
       "      <td>520</td>\n",
       "      <td>0.198</td>\n",
       "      <td>0.50</td>\n",
       "      <td>2018</td>\n",
       "    </tr>\n",
       "  </tbody>\n",
       "</table>\n",
       "</div>"
      ],
      "text/plain": [
       "        STATE TOT_EMP JOBS_1000 LOC_Q  Year\n",
       "0     Alabama   1,750     0.901  2.29  2018\n",
       "1      Alaska     160     0.496  1.26  2018\n",
       "2    Arkansas     340     0.279  0.71  2018\n",
       "3  California   1,910     0.112  0.29  2018\n",
       "4    Colorado     520     0.198  0.50  2018"
      ]
     },
     "execution_count": 50,
     "metadata": {},
     "output_type": "execute_result"
    }
   ],
   "source": [
    "psyjobs_df.head()"
   ]
  },
  {
   "cell_type": "code",
   "execution_count": 59,
   "metadata": {},
   "outputs": [],
   "source": [
    "# Split up psyjobs df by year\n",
    "psyjobs_df2018 = psyjobs_df.groupby(psyjobs_df.Year).get_group(2018)\n",
    "psyjobs_df2019 = psyjobs_df.groupby(psyjobs_df.Year).get_group(2019)\n",
    "psyjobs_df2020 = psyjobs_df.groupby(psyjobs_df.Year).get_group(2020)\n"
   ]
  },
  {
   "cell_type": "code",
   "execution_count": 60,
   "metadata": {},
   "outputs": [],
   "source": [
    "# Drop year column for psyjobs dataframes\n",
    "psyjobs_df2018 = psyjobs_df2018.drop(columns=['Year'])\n",
    "psyjobs_df2019 = psyjobs_df2019.drop(columns=['Year'])\n",
    "psyjobs_df2020 = psyjobs_df2020.drop(columns=['Year'])\n"
   ]
  },
  {
   "cell_type": "code",
   "execution_count": 61,
   "metadata": {},
   "outputs": [],
   "source": [
    "# Add suffix for variable names\n",
    "psyjobs_df2018 = psyjobs_df2018.add_suffix('_2018')\n",
    "psyjobs_df2019 = psyjobs_df2019.add_suffix('_2019')\n",
    "psyjobs_df2020 = psyjobs_df2020.add_suffix('_2020')"
   ]
  },
  {
   "cell_type": "code",
   "execution_count": 62,
   "metadata": {},
   "outputs": [],
   "source": [
    "# Standardize state column\n",
    "psyjobs_df2018 = psyjobs_df2018.rename(columns={'STATE_2018' : 'State'})"
   ]
  },
  {
   "cell_type": "code",
   "execution_count": 63,
   "metadata": {},
   "outputs": [],
   "source": [
    "# Standardize state column\n",
    "psyjobs_df2019 = psyjobs_df2019.rename(columns={'STATE_2019' : 'State'})"
   ]
  },
  {
   "cell_type": "code",
   "execution_count": 64,
   "metadata": {},
   "outputs": [],
   "source": [
    "# Standardize state column\n",
    "psyjobs_df2020 = psyjobs_df2020.rename(columns={'STATE_2020' : 'State'})"
   ]
  },
  {
   "cell_type": "code",
   "execution_count": 65,
   "metadata": {},
   "outputs": [],
   "source": [
    "# Setup postgres variables\n",
    "pg_user = \"postgres\"\n",
    "pg_pwd = db_password\n",
    "pg_port = \"5432\"\n",
    "host = 'project-vu-database-piecharts.c7rvpt2rehpr.us-east-2.rds.amazonaws.com'"
   ]
  },
  {
   "cell_type": "code",
   "execution_count": 66,
   "metadata": {},
   "outputs": [],
   "source": [
    "# Create connection string\n",
    "db_string = \"postgresql://{username}:{password}@{host}:{port}/project_db\".format(username=pg_user, password=pg_pwd, host = host, port=pg_port)\n"
   ]
  },
  {
   "cell_type": "code",
   "execution_count": 67,
   "metadata": {},
   "outputs": [],
   "source": [
    "# Connect to the database engine\n",
    "engine = create_engine(db_string)"
   ]
  },
  {
   "cell_type": "code",
   "execution_count": 68,
   "metadata": {},
   "outputs": [],
   "source": [
    "# Load psyjobs dataframes to sql server\n",
    "psyjobs_df2020.to_sql(name='psyjobs2020', if_exists='replace', con=engine, index=False)\n",
    "psyjobs_df2019.to_sql(name='psyjobs2019', if_exists='replace', con=engine, index=False)\n",
    "psyjobs_df2018.to_sql(name='psyjobs2018', if_exists='replace', con=engine, index=False)\n"
   ]
  },
  {
   "cell_type": "code",
   "execution_count": 69,
   "metadata": {},
   "outputs": [],
   "source": [
    "# Load general psy dataframes to sql server\n",
    "psy2019_df.to_sql(name='psy2019', if_exists='replace', con=engine, index=False)\n",
    "psy2020_df.to_sql(name='psy2020', if_exists='replace', con=engine, index=False)"
   ]
  }
 ],
 "metadata": {
  "interpreter": {
   "hash": "7829a8a9740bf35ce0d99eaef6f9b78ba8db1856c4a7cf99972e3bb293bfaf99"
  },
  "kernelspec": {
   "display_name": "Python 3.9.5 64-bit ('PyData': conda)",
   "name": "python3"
  },
  "language_info": {
   "codemirror_mode": {
    "name": "ipython",
    "version": 3
   },
   "file_extension": ".py",
   "mimetype": "text/x-python",
   "name": "python",
   "nbconvert_exporter": "python",
   "pygments_lexer": "ipython3",
   "version": "3.9.5"
  },
  "orig_nbformat": 4
 },
 "nbformat": 4,
 "nbformat_minor": 2
}
