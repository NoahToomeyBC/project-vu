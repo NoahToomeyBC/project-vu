{
 "cells": [
  {
   "cell_type": "code",
   "execution_count": 2,
   "metadata": {},
   "outputs": [
    {
     "ename": "ImportError",
     "evalue": "cannot import name 'db_password' from 'config' (c:\\Users\\noaht\\Desktop\\Git\\project-vu\\sql_loaders\\config.py)",
     "output_type": "error",
     "traceback": [
      "\u001b[1;31m---------------------------------------------------------------------------\u001b[0m",
      "\u001b[1;31mImportError\u001b[0m                               Traceback (most recent call last)",
      "\u001b[1;32m~\\AppData\\Local\\Temp/ipykernel_19568/511177289.py\u001b[0m in \u001b[0;36m<module>\u001b[1;34m\u001b[0m\n\u001b[0;32m      2\u001b[0m \u001b[1;32mfrom\u001b[0m \u001b[0msqlalchemy\u001b[0m \u001b[1;32mimport\u001b[0m \u001b[0mcreate_engine\u001b[0m\u001b[1;33m\u001b[0m\u001b[1;33m\u001b[0m\u001b[0m\n\u001b[0;32m      3\u001b[0m \u001b[1;32mimport\u001b[0m \u001b[0mpsycopg2\u001b[0m\u001b[1;33m\u001b[0m\u001b[1;33m\u001b[0m\u001b[0m\n\u001b[1;32m----> 4\u001b[1;33m \u001b[1;32mfrom\u001b[0m \u001b[0mconfig\u001b[0m \u001b[1;32mimport\u001b[0m \u001b[0mdb_password\u001b[0m\u001b[1;33m\u001b[0m\u001b[1;33m\u001b[0m\u001b[0m\n\u001b[0m\u001b[0;32m      5\u001b[0m \u001b[1;32mimport\u001b[0m \u001b[0mos\u001b[0m\u001b[1;33m\u001b[0m\u001b[1;33m\u001b[0m\u001b[0m\n\u001b[0;32m      6\u001b[0m \u001b[1;32mfrom\u001b[0m \u001b[0mos\u001b[0m \u001b[1;32mimport\u001b[0m \u001b[0mlistdir\u001b[0m\u001b[1;33m\u001b[0m\u001b[1;33m\u001b[0m\u001b[0m\n",
      "\u001b[1;31mImportError\u001b[0m: cannot import name 'db_password' from 'config' (c:\\Users\\noaht\\Desktop\\Git\\project-vu\\sql_loaders\\config.py)"
     ]
    }
   ],
   "source": [
    "import pandas as pd\n",
    "from sqlalchemy import create_engine\n",
    "import psycopg2\n",
    "from config import db_password\n",
    "import os\n",
    "from os import listdir\n",
    "from os.path import isfile, join\n",
    "from pathlib import Path\n"
   ]
  },
  {
   "cell_type": "code",
   "execution_count": 90,
   "metadata": {},
   "outputs": [],
   "source": [
    "# Create list of csv file names\n",
    "file_path = r'C:\\Users\\noaht\\Desktop\\Git\\project-vu\\resources'\n",
    "onlyfiles = [f for f in listdir(file_path) if isfile(join(file_path, f))]\n"
   ]
  },
  {
   "cell_type": "code",
   "execution_count": 91,
   "metadata": {},
   "outputs": [],
   "source": [
    "# Remove pdf's from file list\n",
    "onlyfiles.remove('2019_data.pdf')\n",
    "onlyfiles.remove('2020_data.pdf')\n",
    "onlyfiles.remove('2021_data.pdf') \n"
   ]
  },
  {
   "cell_type": "code",
   "execution_count": 92,
   "metadata": {},
   "outputs": [],
   "source": [
    "# Remove old data csv from file list\n",
    "onlyfiles.remove('Indicators_of_Anxiety_or_Depression_Based_on_Reported_Frequency_of_Symptoms_During_Last_7_Days (1).csv')"
   ]
  },
  {
   "cell_type": "code",
   "execution_count": 88,
   "metadata": {},
   "outputs": [],
   "source": [
    "# Create empty dictionary to store dataframes\n",
    "df_dict = {}\n",
    "df_list = []"
   ]
  },
  {
   "cell_type": "code",
   "execution_count": 94,
   "metadata": {},
   "outputs": [
    {
     "name": "stderr",
     "output_type": "stream",
     "text": [
      "b'Skipping line 5: expected 1 fields, saw 4\\nSkipping line 9: expected 1 fields, saw 4\\n'\n",
      "C:\\Users\\noaht\\anaconda3\\envs\\PyData\\lib\\site-packages\\IPython\\core\\interactiveshell.py:3169: DtypeWarning: Columns (1,2,3,4,5,6,7,8,9,11,18,19,20,21,22) have mixed types.Specify dtype option on import or set low_memory=False.\n",
      "  has_raised = await self.run_ast_nodes(code_ast.body, cell_name,\n"
     ]
    }
   ],
   "source": [
    "for file_name in onlyfiles:  # loop over files\n",
    "\n",
    "   # read csv into a dataframe and add it to dict with file_name as it key\n",
    "   df_dict[file_name] = pd.read_csv(fr'C:\\Users\\noaht\\Desktop\\Git\\project-vu\\resources.\\\\' + file_name, error_bad_lines=False)\n"
   ]
  },
  {
   "cell_type": "code",
   "execution_count": 95,
   "metadata": {},
   "outputs": [],
   "source": [
    "# Create a function that converts onlyfiles list into a tuple to make it immutable\n",
    "def convert(list):\n",
    "    return tuple(list)"
   ]
  },
  {
   "cell_type": "code",
   "execution_count": 96,
   "metadata": {},
   "outputs": [],
   "source": [
    "# Drop csv from all file names for and put into a list\n",
    "file_no_csv = [t.replace(\".csv\", \"\") for t in onlyfiles]"
   ]
  },
  {
   "cell_type": "code",
   "execution_count": 97,
   "metadata": {},
   "outputs": [
    {
     "data": {
      "text/plain": [
       "('.DS_Store',\n",
       " 'adult_access2019',\n",
       " 'adult_access2020',\n",
       " 'adult_access_clean2021',\n",
       " 'adult_suicide_clean2019',\n",
       " 'adult_suicide_clean2020',\n",
       " 'adult_suicide_clean2021',\n",
       " 'adult_uninsured2019',\n",
       " 'adult_uninsured2020',\n",
       " 'adult_uninsured_clean2021',\n",
       " 'adult_unmet_needs_clean_2019',\n",
       " 'adult_unmet_needs_clean_2020',\n",
       " 'adult_unmet_need_clean2021',\n",
       " 'ami_csv2019',\n",
       " 'ami_csv2020',\n",
       " 'ami_csv2021',\n",
       " 'children_no_mh_clean2020',\n",
       " 'mentalcare_survey_df',\n",
       " 'mh_workforce_clean2020',\n",
       " 'mh_workforce_clean2021',\n",
       " 'no_doc_adult2019_clean',\n",
       " 'no_doc_adult2020_clean',\n",
       " 'no_doc_adult2021_clean',\n",
       " 'psy2019',\n",
       " 'psy2020',\n",
       " 'psyAids2018',\n",
       " 'state_region_connection',\n",
       " 'us_mobility_report',\n",
       " 'us_psyjobs_trends',\n",
       " 'us_unemployment_trends',\n",
       " 'youth_ami_clean2021',\n",
       " 'youth_ami_csv_clean_2019',\n",
       " 'youth_ami_csv_clean_2020',\n",
       " 'youth_mde_clean2019',\n",
       " 'youth_mde_clean2020',\n",
       " 'youth_mde_clean2021',\n",
       " 'youth_no_mh_service2019',\n",
       " 'youth_no_mh_service2020',\n",
       " 'youth_no_mh_service2021',\n",
       " 'youth_some_mh_service_clean2019',\n",
       " 'youth_some_mh_service_clean2020',\n",
       " 'youth_some_mh_service_clean2021',\n",
       " 'youth_sub_dis2019_clean')"
      ]
     },
     "execution_count": 97,
     "metadata": {},
     "output_type": "execute_result"
    }
   ],
   "source": [
    "convert(file_no_csv)"
   ]
  },
  {
   "cell_type": "code",
   "execution_count": 108,
   "metadata": {},
   "outputs": [
    {
     "ename": "SyntaxError",
     "evalue": "cannot assign to function call (Temp/ipykernel_10988/3948005212.py, line 1)",
     "output_type": "error",
     "traceback": [
      "\u001b[1;36m  File \u001b[1;32m\"C:\\Users\\noaht\\AppData\\Local\\Temp/ipykernel_10988/3948005212.py\"\u001b[1;36m, line \u001b[1;32m1\u001b[0m\n\u001b[1;33m    df_dict.values() = df_dict.values().applymap(lambda s:s.lower() if type(s) == str else s)\u001b[0m\n\u001b[1;37m    ^\u001b[0m\n\u001b[1;31mSyntaxError\u001b[0m\u001b[1;31m:\u001b[0m cannot assign to function call\n"
     ]
    }
   ],
   "source": [
    "df_dict.values() = df_dict.values().applymap(lambda s:s.lower() if type(s) == str else s)\n"
   ]
  },
  {
   "cell_type": "code",
   "execution_count": 99,
   "metadata": {},
   "outputs": [],
   "source": [
    "# Setup postgres variables\n",
    "pg_user = \"postgres\"\n",
    "pg_pwd = db_password\n",
    "pg_port = \"5432\"\n",
    "host = 'project-vu-database-piecharts.c7rvpt2rehpr.us-east-2.rds.amazonaws.com'"
   ]
  },
  {
   "cell_type": "code",
   "execution_count": 100,
   "metadata": {},
   "outputs": [],
   "source": [
    "# Create connection string\n",
    "db_string = \"postgresql://{username}:{password}@{host}:{port}/project_db\".format(username=pg_user, password=pg_pwd, host = host, port=pg_port)\n"
   ]
  },
  {
   "cell_type": "code",
   "execution_count": 101,
   "metadata": {},
   "outputs": [],
   "source": [
    "# Connect to the database engine\n",
    "engine = create_engine(db_string)\n"
   ]
  },
  {
   "cell_type": "code",
   "execution_count": 103,
   "metadata": {},
   "outputs": [],
   "source": [
    "# Use this cell to fix messed up tables\n",
    "fix_df = pd.read_csv(r'resources\\youth_some_mh_service_clean2021.csv')\n",
    "fix_df.to_sql(name='youth_some_mh_service_clean2021', if_exists='replace', con=engine, index=False)"
   ]
  },
  {
   "cell_type": "code",
   "execution_count": 59,
   "metadata": {},
   "outputs": [],
   "source": [
    "# # Load each data frame into their own pgsql table\n",
    "# for df, title in zip(df_dict.values(), file_no_csv):\n",
    "#     try:\n",
    "#         df.to_sql(\n",
    "#             name = title,\n",
    "#             con=engine,\n",
    "#             index=False)\n",
    "#     except:\n",
    "#         print(TypeError)"
   ]
  },
  {
   "cell_type": "code",
   "execution_count": null,
   "metadata": {},
   "outputs": [],
   "source": []
  }
 ],
 "metadata": {
  "interpreter": {
   "hash": "7829a8a9740bf35ce0d99eaef6f9b78ba8db1856c4a7cf99972e3bb293bfaf99"
  },
  "kernelspec": {
   "display_name": "Python 3.9.5 64-bit ('PyData': conda)",
   "name": "python3"
  },
  "language_info": {
   "codemirror_mode": {
    "name": "ipython",
    "version": 3
   },
   "file_extension": ".py",
   "mimetype": "text/x-python",
   "name": "python",
   "nbconvert_exporter": "python",
   "pygments_lexer": "ipython3",
   "version": "3.9.5"
  },
  "orig_nbformat": 4
 },
 "nbformat": 4,
 "nbformat_minor": 2
}
